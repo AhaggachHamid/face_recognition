{
 "cells": [
  {
   "cell_type": "code",
   "execution_count": 1,
   "metadata": {},
   "outputs": [
    {
     "name": "stderr",
     "output_type": "stream",
     "text": [
      "Using TensorFlow backend.\n"
     ]
    }
   ],
   "source": [
    "import pandas as pd\n",
    "import numpy as np \n",
    "import matplotlib.pyplot as plt\n",
    "import seaborn as sns\n",
    "import random \n",
    "import h5py\n",
    "import cv2\n",
    "import glob\n",
    "from matplotlib import pyplot\n",
    "\n",
    "from keras.models import Sequential \n",
    "from keras.layers import Conv2D, MaxPooling2D, Dense, Flatten, Dropout\n",
    "from keras.optimizers import Adam\n",
    "from keras.callbacks import TensorBoard\n",
    "import os\n",
    "from mtcnn.mtcnn import MTCNN\n",
    "from keras.preprocessing.image import ImageDataGenerator, load_img\n",
    "from keras.models import load_model \n",
    "from decimal import *\n",
    "from matplotlib import pyplot\n",
    "import keras.callbacks"
   ]
  },
  {
   "cell_type": "code",
   "execution_count": 2,
   "metadata": {},
   "outputs": [],
   "source": [
    "# label = ['bale','cristiano','modric','benzema','casemero','carvajall','kross','iscoo','ramos','marcelo','cortoiss','hazardd']"
   ]
  },
  {
   "cell_type": "code",
   "execution_count": 3,
   "metadata": {},
   "outputs": [
    {
     "name": "stdout",
     "output_type": "stream",
     "text": [
      "bale 192\n",
      "benzema 225\n",
      "carvajal 116\n",
      "casemero 244\n",
      "cortoiss 148\n",
      "cristiano 350\n",
      "hazardd 238\n",
      "isco 146\n",
      "kross 153\n",
      "marcelo 177\n",
      "messi 72\n",
      "modric 192\n",
      "nacho 195\n",
      "navas 165\n",
      "pepe 89\n",
      "ramos 213\n",
      "valverde 76\n",
      "varane 72\n",
      "vasquiz 43\n",
      "3106\n"
     ]
    }
   ],
   "source": [
    "label = ['bale','benzema','carvajal','casemero','cortoiss','cristiano','hazardd','isco','kross','marcelo','messi','modric','nacho','navas','pepe','ramos','valverde','varane','vasquiz']\n",
    "path = {}\n",
    "nb_train_samples = 0\n",
    "for img in label:\n",
    "    path[img] = glob.glob(os.path.join('trainRealMadrid/', img, '*'))\n",
    "    print(img,len(path[img]))\n",
    "    nb_train_samples += len(path[img])\n",
    "print(nb_train_samples)"
   ]
  },
  {
   "cell_type": "code",
   "execution_count": 4,
   "metadata": {},
   "outputs": [],
   "source": [
    "# img_width=200\n",
    "# img_height=200\n",
    "img_width=128\n",
    "img_height=128"
   ]
  },
  {
   "cell_type": "code",
   "execution_count": 5,
   "metadata": {},
   "outputs": [
    {
     "name": "stdout",
     "output_type": "stream",
     "text": [
      "192\n",
      "225\n",
      "116\n",
      "244\n",
      "148\n",
      "350\n",
      "238\n",
      "146\n",
      "153\n",
      "177\n",
      "72\n",
      "192\n",
      "195\n",
      "165\n",
      "89\n",
      "213\n",
      "76\n",
      "72\n",
      "43\n"
     ]
    }
   ],
   "source": [
    "path = {}\n",
    "X_train=[]\n",
    "Y_train=[]\n",
    "classe=0\n",
    "for img in label:\n",
    "    path[img] = glob.glob(os.path.join('trainRealMadrid', img, '*'))\n",
    "    for image in path[img]:\n",
    "        X_train.append(cv2.resize(cv2.imread(image),(img_width,img_width)))\n",
    "        Y_train.append(classe)\n",
    "    classe=classe+1\n",
    "    print(len(path[img]))"
   ]
  },
  {
   "cell_type": "code",
   "execution_count": null,
   "metadata": {},
   "outputs": [],
   "source": [
    "cv2.imshow(\"k\",X_train[-1])\n",
    "cv2.waitKey(0)\n"
   ]
  },
  {
   "cell_type": "code",
   "execution_count": 8,
   "metadata": {},
   "outputs": [],
   "source": [
    "batch_size=64\n",
    "input_shape=(img_width,img_width,3)\n",
    "path='train'\n",
    "epochs=5\n",
    "X_train =  np.array(X_train[:])\n",
    "X_train =  X_train / 255"
   ]
  },
  {
   "cell_type": "code",
   "execution_count": 7,
   "metadata": {},
   "outputs": [
    {
     "name": "stdout",
     "output_type": "stream",
     "text": [
      "3106\n",
      "3106\n"
     ]
    }
   ],
   "source": [
    "print(len(X_train))\n",
    "print(len(Y_train))"
   ]
  },
  {
   "cell_type": "markdown",
   "metadata": {},
   "source": [
    "# parametre de model"
   ]
  },
  {
   "cell_type": "code",
   "execution_count": 8,
   "metadata": {},
   "outputs": [],
   "source": [
    "# cnn_model = Sequential()\n",
    "\n",
    "# cnn_model.add(Conv2D(64, 6, 6, input_shape = (128, 128, 3), activation = 'relu'))\n",
    "# cnn_model.add(MaxPooling2D(pool_size = (2, 2)))\n",
    "\n",
    "# cnn_model.add(Dropout(0.2))\n",
    "\n",
    "# cnn_model.add(Conv2D(64, 5, 5, activation = 'relu'))\n",
    "# cnn_model.add(MaxPooling2D(pool_size = (2, 2)))\n",
    "\n",
    "# cnn_model.add(Flatten())\n",
    "\n",
    "# cnn_model.add(Dense(output_dim = 128, activation = 'relu'))\n",
    "\n",
    "# cnn_model.add(Dense(output_dim = 1, activation = 'sigmoid'))\n",
    "# cnn_model.summary()"
   ]
  },
  {
   "cell_type": "code",
   "execution_count": 9,
   "metadata": {},
   "outputs": [
    {
     "name": "stdout",
     "output_type": "stream",
     "text": [
      "Model: \"sequential_3\"\n",
      "_________________________________________________________________\n",
      "Layer (type)                 Output Shape              Param #   \n",
      "=================================================================\n",
      "conv2d_1 (Conv2D)            (None, 128, 128, 64)      1792      \n",
      "_________________________________________________________________\n",
      "max_pooling2d_1 (MaxPooling2 (None, 64, 64, 64)        0         \n",
      "_________________________________________________________________\n",
      "dropout_1 (Dropout)          (None, 64, 64, 64)        0         \n",
      "_________________________________________________________________\n",
      "conv2d_2 (Conv2D)            (None, 64, 64, 128)       73856     \n",
      "_________________________________________________________________\n",
      "max_pooling2d_2 (MaxPooling2 (None, 32, 32, 128)       0         \n",
      "_________________________________________________________________\n",
      "dropout_2 (Dropout)          (None, 32, 32, 128)       0         \n",
      "_________________________________________________________________\n",
      "conv2d_3 (Conv2D)            (None, 32, 32, 256)       295168    \n",
      "_________________________________________________________________\n",
      "max_pooling2d_3 (MaxPooling2 (None, 16, 16, 256)       0         \n",
      "_________________________________________________________________\n",
      "dropout_3 (Dropout)          (None, 16, 16, 256)       0         \n",
      "_________________________________________________________________\n",
      "conv2d_4 (Conv2D)            (None, 16, 16, 512)       1180160   \n",
      "_________________________________________________________________\n",
      "max_pooling2d_4 (MaxPooling2 (None, 8, 8, 512)         0         \n",
      "_________________________________________________________________\n",
      "dropout_4 (Dropout)          (None, 8, 8, 512)         0         \n",
      "_________________________________________________________________\n",
      "conv2d_5 (Conv2D)            (None, 8, 8, 1024)        4719616   \n",
      "_________________________________________________________________\n",
      "max_pooling2d_5 (MaxPooling2 (None, 4, 4, 1024)        0         \n",
      "_________________________________________________________________\n",
      "dropout_5 (Dropout)          (None, 4, 4, 1024)        0         \n",
      "_________________________________________________________________\n",
      "flatten_1 (Flatten)          (None, 16384)             0         \n",
      "_________________________________________________________________\n",
      "dense_1 (Dense)              (None, 4096)              67112960  \n",
      "_________________________________________________________________\n",
      "dense_2 (Dense)              (None, 2048)              8390656   \n",
      "_________________________________________________________________\n",
      "dropout_6 (Dropout)          (None, 2048)              0         \n",
      "_________________________________________________________________\n",
      "dense_3 (Dense)              (None, 19)                38931     \n",
      "=================================================================\n",
      "Total params: 81,813,139\n",
      "Trainable params: 81,813,139\n",
      "Non-trainable params: 0\n",
      "_________________________________________________________________\n"
     ]
    }
   ],
   "source": [
    "cnn_model = Sequential()\n",
    "cnn_model.add(Conv2D(input_shape=input_shape,filters=64,kernel_size=(3,3),padding=\"same\", activation=\"relu\"))\n",
    "cnn_model.add(MaxPooling2D(pool_size=(2,2),strides=(2,2)))\n",
    "cnn_model.add(Dropout(0.2))\n",
    "\n",
    "cnn_model.add(Conv2D(filters=128, kernel_size=(3,3), padding=\"same\", activation=\"relu\"))\n",
    "cnn_model.add(MaxPooling2D(pool_size=(2,2),strides=(2,2)))\n",
    "cnn_model.add(Dropout(0.2))\n",
    "\n",
    "cnn_model.add(Conv2D(filters=256, kernel_size=(3,3), padding=\"same\", activation=\"relu\"))\n",
    "cnn_model.add(MaxPooling2D(pool_size=(2,2),strides=(2,2)))\n",
    "cnn_model.add(Dropout(0.2))\n",
    "\n",
    "cnn_model.add(Conv2D(filters=512, kernel_size=(3,3), padding=\"same\", activation=\"relu\"))\n",
    "cnn_model.add(MaxPooling2D(pool_size=(2,2),strides=(2,2)))\n",
    "cnn_model.add(Dropout(0.2))\n",
    "\n",
    "cnn_model.add(Conv2D(filters=1024, kernel_size=(3,3), padding=\"same\", activation=\"relu\"))\n",
    "cnn_model.add(MaxPooling2D(pool_size=(2,2),strides=(2,2)))\n",
    "cnn_model.add(Dropout(0.2))\n",
    "\n",
    "cnn_model.add(Flatten())\n",
    "cnn_model.add(Dense(units=4096,activation=\"relu\"))\n",
    "cnn_model.add(Dense(units=2048,activation=\"relu\"))\n",
    "cnn_model.add(Dropout(0.2))\n",
    "\n",
    "cnn_model.add(Dense(units=len(label), activation=\"softmax\"))\n",
    "cnn_model.summary()"
   ]
  },
  {
   "cell_type": "code",
   "execution_count": 9,
   "metadata": {},
   "outputs": [
    {
     "name": "stdout",
     "output_type": "stream",
     "text": [
      "Model: \"sequential_1\"\n",
      "_________________________________________________________________\n",
      "Layer (type)                 Output Shape              Param #   \n",
      "=================================================================\n",
      "conv2d_1 (Conv2D)            (None, 198, 198, 32)      896       \n",
      "_________________________________________________________________\n",
      "max_pooling2d_1 (MaxPooling2 (None, 99, 99, 32)        0         \n",
      "_________________________________________________________________\n",
      "dropout_1 (Dropout)          (None, 99, 99, 32)        0         \n",
      "_________________________________________________________________\n",
      "conv2d_2 (Conv2D)            (None, 97, 97, 32)        9248      \n",
      "_________________________________________________________________\n",
      "max_pooling2d_2 (MaxPooling2 (None, 48, 48, 32)        0         \n",
      "_________________________________________________________________\n",
      "dropout_2 (Dropout)          (None, 48, 48, 32)        0         \n",
      "_________________________________________________________________\n",
      "conv2d_3 (Conv2D)            (None, 46, 46, 64)        18496     \n",
      "_________________________________________________________________\n",
      "max_pooling2d_3 (MaxPooling2 (None, 23, 23, 64)        0         \n",
      "_________________________________________________________________\n",
      "dropout_3 (Dropout)          (None, 23, 23, 64)        0         \n",
      "_________________________________________________________________\n",
      "flatten_1 (Flatten)          (None, 33856)             0         \n",
      "_________________________________________________________________\n",
      "dense_1 (Dense)              (None, 4096)              138678272 \n",
      "_________________________________________________________________\n",
      "dense_2 (Dense)              (None, 2048)              8390656   \n",
      "_________________________________________________________________\n",
      "dropout_4 (Dropout)          (None, 2048)              0         \n",
      "_________________________________________________________________\n",
      "dense_3 (Dense)              (None, 19)                38931     \n",
      "=================================================================\n",
      "Total params: 147,136,499\n",
      "Trainable params: 147,136,499\n",
      "Non-trainable params: 0\n",
      "_________________________________________________________________\n"
     ]
    }
   ],
   "source": [
    "# cnn_model = Sequential()\n",
    "\n",
    "# cnn_model.add(Conv2D(32, (3,3), input_shape = input_sape, activation = 'relu'))\n",
    "# cnn_model.add(MaxPooling2D(pool_size = (2, 2)))\n",
    "# cnn_model.add(Dropout(0.2))\n",
    "\n",
    "\n",
    "# cnn_model.add(Conv2D(32, (3,3), activation = 'relu'))\n",
    "# cnn_model.add(MaxPooling2D(pool_size = (2, 2)))\n",
    "# cnn_model.add(Dropout(0.2))\n",
    "\n",
    "# cnn_model.add(Conv2D(64, (3,3), activation = 'relu'))\n",
    "# cnn_model.add(MaxPooling2D(pool_size = (2, 2)))\n",
    "# cnn_model.add(Dropout(0.2))\n",
    "\n",
    "# cnn_model.add(Flatten())\n",
    "\n",
    "# cnn_model.add(Dense(units = 4096, activation = 'relu'))\n",
    "# cnn_model.add(Dense(units = 2048, activation = 'relu'))\n",
    "# cnn_model.add(Dropout(0.2))\n",
    "\n",
    "# cnn_model.add(Dense(units = len(label), activation = 'softmax'))\n",
    "\n",
    "\n",
    "# cnn_model.summary()\n"
   ]
  },
  {
   "cell_type": "code",
   "execution_count": 10,
   "metadata": {},
   "outputs": [],
   "source": [
    "cnn_model.compile(loss = 'sparse_categorical_crossentropy', optimizer ='adam', metrics = ['accuracy'])"
   ]
  },
  {
   "cell_type": "code",
   "execution_count": 11,
   "metadata": {},
   "outputs": [],
   "source": [
    "ACCURACY_THRESHOLD = 0.99\n",
    "class MyCustomCallback(keras.callbacks.Callback):\n",
    "    def on_epoch_end(self, epoch, logs=None):\n",
    "        if(logs.get('accuracy') > ACCURACY_THRESHOLD):   \n",
    "            print(\"\\nReached %2.2f%% accuracy, so stopping training!!\" %(ACCURACY_THRESHOLD*100))   \n",
    "            self.model.stop_training = True\n",
    "\n",
    "callback = MyCustomCallback()"
   ]
  },
  {
   "cell_type": "code",
   "execution_count": 12,
   "metadata": {
    "scrolled": true
   },
   "outputs": [
    {
     "name": "stderr",
     "output_type": "stream",
     "text": [
      "C:\\Users\\Public\\anaconda\\lib\\site-packages\\ipykernel_launcher.py:1: UserWarning: The `nb_epoch` argument in `fit` has been renamed `epochs`.\n",
      "  \"\"\"Entry point for launching an IPython kernel.\n"
     ]
    },
    {
     "name": "stdout",
     "output_type": "stream",
     "text": [
      "Epoch 1/70\n",
      "3106/3106 [==============================] - 840s 270ms/step - loss: 3.4171 - accuracy: 0.1043\n",
      "Epoch 2/70\n",
      "3106/3106 [==============================] - 777s 250ms/step - loss: 2.8487 - accuracy: 0.1127\n",
      "Epoch 3/70\n",
      "3106/3106 [==============================] - 831s 268ms/step - loss: 2.8493 - accuracy: 0.1124\n",
      "Epoch 4/70\n",
      "3106/3106 [==============================] - 857s 276ms/step - loss: 2.8483 - accuracy: 0.1127\n",
      "Epoch 5/70\n",
      "3106/3106 [==============================] - 840s 271ms/step - loss: 2.7196 - accuracy: 0.1336\n",
      "Epoch 6/70\n",
      "3106/3106 [==============================] - 815s 262ms/step - loss: 2.5459 - accuracy: 0.1710\n",
      "Epoch 7/70\n",
      "3106/3106 [==============================] - 749s 241ms/step - loss: 2.1951 - accuracy: 0.2627\n",
      "Epoch 8/70\n",
      "3106/3106 [==============================] - 561s 181ms/step - loss: 1.8865 - accuracy: 0.3693\n",
      "Epoch 9/70\n",
      "3106/3106 [==============================] - 509s 164ms/step - loss: 1.5958 - accuracy: 0.4755\n",
      "Epoch 10/70\n",
      "3106/3106 [==============================] - 436s 140ms/step - loss: 1.3284 - accuracy: 0.5724\n",
      "Epoch 11/70\n",
      "3106/3106 [==============================] - 506s 163ms/step - loss: 1.0943 - accuracy: 0.6343\n",
      "Epoch 12/70\n",
      "3106/3106 [==============================] - 529s 170ms/step - loss: 0.8891 - accuracy: 0.7077\n",
      "Epoch 13/70\n",
      "3106/3106 [==============================] - 576s 185ms/step - loss: 0.7749 - accuracy: 0.7476\n",
      "Epoch 14/70\n",
      "3106/3106 [==============================] - 589s 190ms/step - loss: 0.6389 - accuracy: 0.7991\n",
      "Epoch 15/70\n",
      "3106/3106 [==============================] - 780s 251ms/step - loss: 0.5473 - accuracy: 0.8242\n",
      "Epoch 16/70\n",
      "3106/3106 [==============================] - 815s 262ms/step - loss: 0.4233 - accuracy: 0.8677\n",
      "Epoch 17/70\n",
      "3106/3106 [==============================] - 626s 202ms/step - loss: 0.3702 - accuracy: 0.8806\n",
      "Epoch 18/70\n",
      "3106/3106 [==============================] - 770s 248ms/step - loss: 0.3199 - accuracy: 0.9021\n",
      "Epoch 19/70\n",
      "3106/3106 [==============================] - 649s 209ms/step - loss: 0.2493 - accuracy: 0.9256\n",
      "Epoch 20/70\n",
      "3106/3106 [==============================] - 612s 197ms/step - loss: 0.2462 - accuracy: 0.91531:59 - loss: 0.2435 - \n",
      "Epoch 21/70\n",
      "3106/3106 [==============================] - 538s 173ms/step - loss: 0.2150 - accuracy: 0.9279\n",
      "Epoch 22/70\n",
      "3106/3106 [==============================] - 532s 171ms/step - loss: 0.1916 - accuracy: 0.9324\n",
      "Epoch 23/70\n",
      "3106/3106 [==============================] - 537s 173ms/step - loss: 0.1506 - accuracy: 0.9446\n",
      "Epoch 24/70\n",
      "3106/3106 [==============================] - 511s 164ms/step - loss: 0.1145 - accuracy: 0.9649\n",
      "Epoch 25/70\n",
      "3106/3106 [==============================] - 493s 159ms/step - loss: 0.1501 - accuracy: 0.9507\n",
      "Epoch 26/70\n",
      "3106/3106 [==============================] - 502s 162ms/step - loss: 0.1223 - accuracy: 0.9610\n",
      "Epoch 27/70\n",
      "3106/3106 [==============================] - 538s 173ms/step - loss: 0.1059 - accuracy: 0.9697\n",
      "Epoch 28/70\n",
      "3106/3106 [==============================] - 540s 174ms/step - loss: 0.1079 - accuracy: 0.9636\n",
      "Epoch 29/70\n",
      "3106/3106 [==============================] - 534s 172ms/step - loss: 0.0988 - accuracy: 0.9694\n",
      "Epoch 30/70\n",
      "3106/3106 [==============================] - 486s 157ms/step - loss: 0.1045 - accuracy: 0.9652\n",
      "Epoch 31/70\n",
      "3106/3106 [==============================] - 501s 161ms/step - loss: 0.0799 - accuracy: 0.9717\n",
      "Epoch 32/70\n",
      "3106/3106 [==============================] - 470s 151ms/step - loss: 0.1015 - accuracy: 0.9730\n",
      "Epoch 33/70\n",
      "3106/3106 [==============================] - 508s 163ms/step - loss: 0.0626 - accuracy: 0.9788\n",
      "Epoch 34/70\n",
      "3106/3106 [==============================] - 430s 138ms/step - loss: 0.0575 - accuracy: 0.9833\n",
      "Epoch 35/70\n",
      "3106/3106 [==============================] - 562s 181ms/step - loss: 0.0586 - accuracy: 0.9829\n",
      "Epoch 36/70\n",
      "3106/3106 [==============================] - 817s 263ms/step - loss: 0.0735 - accuracy: 0.9781\n",
      "Epoch 37/70\n",
      "3106/3106 [==============================] - 815s 262ms/step - loss: 0.0934 - accuracy: 0.9694\n",
      "Epoch 38/70\n",
      " 128/3106 [>.............................] - ETA: 11:12 - loss: 0.0877 - accuracy: 0.9609"
     ]
    },
    {
     "ename": "KeyboardInterrupt",
     "evalue": "",
     "output_type": "error",
     "traceback": [
      "\u001b[1;31m---------------------------------------------------------------------------\u001b[0m",
      "\u001b[1;31mKeyboardInterrupt\u001b[0m                         Traceback (most recent call last)",
      "\u001b[1;32m<ipython-input-12-eba1e52597ff>\u001b[0m in \u001b[0;36m<module>\u001b[1;34m\u001b[0m\n\u001b[1;32m----> 1\u001b[1;33m \u001b[0mhistory\u001b[0m \u001b[1;33m=\u001b[0m \u001b[0mcnn_model\u001b[0m\u001b[1;33m.\u001b[0m\u001b[0mfit\u001b[0m\u001b[1;33m(\u001b[0m\u001b[0mX_train\u001b[0m\u001b[1;33m,\u001b[0m \u001b[0mY_train\u001b[0m\u001b[1;33m,\u001b[0m \u001b[0mbatch_size\u001b[0m \u001b[1;33m=\u001b[0m\u001b[0mbatch_size\u001b[0m\u001b[1;33m,\u001b[0m \u001b[0mnb_epoch\u001b[0m \u001b[1;33m=\u001b[0m \u001b[1;36m70\u001b[0m\u001b[1;33m,\u001b[0m \u001b[0mverbose\u001b[0m \u001b[1;33m=\u001b[0m \u001b[1;36m1\u001b[0m\u001b[1;33m,\u001b[0m\u001b[0mcallbacks\u001b[0m\u001b[1;33m=\u001b[0m\u001b[1;33m[\u001b[0m\u001b[0mcallback\u001b[0m\u001b[1;33m]\u001b[0m\u001b[1;33m)\u001b[0m\u001b[1;33m\u001b[0m\u001b[1;33m\u001b[0m\u001b[0m\n\u001b[0m\u001b[0;32m      2\u001b[0m \u001b[1;31m#,validation_split=0.1\u001b[0m\u001b[1;33m\u001b[0m\u001b[1;33m\u001b[0m\u001b[1;33m\u001b[0m\u001b[0m\n",
      "\u001b[1;32mC:\\Users\\Public\\anaconda\\lib\\site-packages\\keras\\engine\\training.py\u001b[0m in \u001b[0;36mfit\u001b[1;34m(self, x, y, batch_size, epochs, verbose, callbacks, validation_split, validation_data, shuffle, class_weight, sample_weight, initial_epoch, steps_per_epoch, validation_steps, validation_freq, max_queue_size, workers, use_multiprocessing, **kwargs)\u001b[0m\n\u001b[0;32m   1237\u001b[0m                                         \u001b[0msteps_per_epoch\u001b[0m\u001b[1;33m=\u001b[0m\u001b[0msteps_per_epoch\u001b[0m\u001b[1;33m,\u001b[0m\u001b[1;33m\u001b[0m\u001b[1;33m\u001b[0m\u001b[0m\n\u001b[0;32m   1238\u001b[0m                                         \u001b[0mvalidation_steps\u001b[0m\u001b[1;33m=\u001b[0m\u001b[0mvalidation_steps\u001b[0m\u001b[1;33m,\u001b[0m\u001b[1;33m\u001b[0m\u001b[1;33m\u001b[0m\u001b[0m\n\u001b[1;32m-> 1239\u001b[1;33m                                         validation_freq=validation_freq)\n\u001b[0m\u001b[0;32m   1240\u001b[0m \u001b[1;33m\u001b[0m\u001b[0m\n\u001b[0;32m   1241\u001b[0m     def evaluate(self,\n",
      "\u001b[1;32mC:\\Users\\Public\\anaconda\\lib\\site-packages\\keras\\engine\\training_arrays.py\u001b[0m in \u001b[0;36mfit_loop\u001b[1;34m(model, fit_function, fit_inputs, out_labels, batch_size, epochs, verbose, callbacks, val_function, val_inputs, shuffle, initial_epoch, steps_per_epoch, validation_steps, validation_freq)\u001b[0m\n\u001b[0;32m    194\u001b[0m                     \u001b[0mins_batch\u001b[0m\u001b[1;33m[\u001b[0m\u001b[0mi\u001b[0m\u001b[1;33m]\u001b[0m \u001b[1;33m=\u001b[0m \u001b[0mins_batch\u001b[0m\u001b[1;33m[\u001b[0m\u001b[0mi\u001b[0m\u001b[1;33m]\u001b[0m\u001b[1;33m.\u001b[0m\u001b[0mtoarray\u001b[0m\u001b[1;33m(\u001b[0m\u001b[1;33m)\u001b[0m\u001b[1;33m\u001b[0m\u001b[1;33m\u001b[0m\u001b[0m\n\u001b[0;32m    195\u001b[0m \u001b[1;33m\u001b[0m\u001b[0m\n\u001b[1;32m--> 196\u001b[1;33m                 \u001b[0mouts\u001b[0m \u001b[1;33m=\u001b[0m \u001b[0mfit_function\u001b[0m\u001b[1;33m(\u001b[0m\u001b[0mins_batch\u001b[0m\u001b[1;33m)\u001b[0m\u001b[1;33m\u001b[0m\u001b[1;33m\u001b[0m\u001b[0m\n\u001b[0m\u001b[0;32m    197\u001b[0m                 \u001b[0mouts\u001b[0m \u001b[1;33m=\u001b[0m \u001b[0mto_list\u001b[0m\u001b[1;33m(\u001b[0m\u001b[0mouts\u001b[0m\u001b[1;33m)\u001b[0m\u001b[1;33m\u001b[0m\u001b[1;33m\u001b[0m\u001b[0m\n\u001b[0;32m    198\u001b[0m                 \u001b[1;32mfor\u001b[0m \u001b[0ml\u001b[0m\u001b[1;33m,\u001b[0m \u001b[0mo\u001b[0m \u001b[1;32min\u001b[0m \u001b[0mzip\u001b[0m\u001b[1;33m(\u001b[0m\u001b[0mout_labels\u001b[0m\u001b[1;33m,\u001b[0m \u001b[0mouts\u001b[0m\u001b[1;33m)\u001b[0m\u001b[1;33m:\u001b[0m\u001b[1;33m\u001b[0m\u001b[1;33m\u001b[0m\u001b[0m\n",
      "\u001b[1;32mC:\\Users\\Public\\anaconda\\lib\\site-packages\\tensorflow_core\\python\\keras\\backend.py\u001b[0m in \u001b[0;36m__call__\u001b[1;34m(self, inputs)\u001b[0m\n\u001b[0;32m   3725\u001b[0m         \u001b[0mvalue\u001b[0m \u001b[1;33m=\u001b[0m \u001b[0mmath_ops\u001b[0m\u001b[1;33m.\u001b[0m\u001b[0mcast\u001b[0m\u001b[1;33m(\u001b[0m\u001b[0mvalue\u001b[0m\u001b[1;33m,\u001b[0m \u001b[0mtensor\u001b[0m\u001b[1;33m.\u001b[0m\u001b[0mdtype\u001b[0m\u001b[1;33m)\u001b[0m\u001b[1;33m\u001b[0m\u001b[1;33m\u001b[0m\u001b[0m\n\u001b[0;32m   3726\u001b[0m       \u001b[0mconverted_inputs\u001b[0m\u001b[1;33m.\u001b[0m\u001b[0mappend\u001b[0m\u001b[1;33m(\u001b[0m\u001b[0mvalue\u001b[0m\u001b[1;33m)\u001b[0m\u001b[1;33m\u001b[0m\u001b[1;33m\u001b[0m\u001b[0m\n\u001b[1;32m-> 3727\u001b[1;33m     \u001b[0moutputs\u001b[0m \u001b[1;33m=\u001b[0m \u001b[0mself\u001b[0m\u001b[1;33m.\u001b[0m\u001b[0m_graph_fn\u001b[0m\u001b[1;33m(\u001b[0m\u001b[1;33m*\u001b[0m\u001b[0mconverted_inputs\u001b[0m\u001b[1;33m)\u001b[0m\u001b[1;33m\u001b[0m\u001b[1;33m\u001b[0m\u001b[0m\n\u001b[0m\u001b[0;32m   3728\u001b[0m \u001b[1;33m\u001b[0m\u001b[0m\n\u001b[0;32m   3729\u001b[0m     \u001b[1;31m# EagerTensor.numpy() will often make a copy to ensure memory safety.\u001b[0m\u001b[1;33m\u001b[0m\u001b[1;33m\u001b[0m\u001b[1;33m\u001b[0m\u001b[0m\n",
      "\u001b[1;32mC:\\Users\\Public\\anaconda\\lib\\site-packages\\tensorflow_core\\python\\eager\\function.py\u001b[0m in \u001b[0;36m__call__\u001b[1;34m(self, *args, **kwargs)\u001b[0m\n\u001b[0;32m   1549\u001b[0m       \u001b[0mTypeError\u001b[0m\u001b[1;33m:\u001b[0m \u001b[0mFor\u001b[0m \u001b[0minvalid\u001b[0m \u001b[0mpositional\u001b[0m\u001b[1;33m/\u001b[0m\u001b[0mkeyword\u001b[0m \u001b[0margument\u001b[0m \u001b[0mcombinations\u001b[0m\u001b[1;33m.\u001b[0m\u001b[1;33m\u001b[0m\u001b[1;33m\u001b[0m\u001b[0m\n\u001b[0;32m   1550\u001b[0m     \"\"\"\n\u001b[1;32m-> 1551\u001b[1;33m     \u001b[1;32mreturn\u001b[0m \u001b[0mself\u001b[0m\u001b[1;33m.\u001b[0m\u001b[0m_call_impl\u001b[0m\u001b[1;33m(\u001b[0m\u001b[0margs\u001b[0m\u001b[1;33m,\u001b[0m \u001b[0mkwargs\u001b[0m\u001b[1;33m)\u001b[0m\u001b[1;33m\u001b[0m\u001b[1;33m\u001b[0m\u001b[0m\n\u001b[0m\u001b[0;32m   1552\u001b[0m \u001b[1;33m\u001b[0m\u001b[0m\n\u001b[0;32m   1553\u001b[0m   \u001b[1;32mdef\u001b[0m \u001b[0m_call_impl\u001b[0m\u001b[1;33m(\u001b[0m\u001b[0mself\u001b[0m\u001b[1;33m,\u001b[0m \u001b[0margs\u001b[0m\u001b[1;33m,\u001b[0m \u001b[0mkwargs\u001b[0m\u001b[1;33m,\u001b[0m \u001b[0mcancellation_manager\u001b[0m\u001b[1;33m=\u001b[0m\u001b[1;32mNone\u001b[0m\u001b[1;33m)\u001b[0m\u001b[1;33m:\u001b[0m\u001b[1;33m\u001b[0m\u001b[1;33m\u001b[0m\u001b[0m\n",
      "\u001b[1;32mC:\\Users\\Public\\anaconda\\lib\\site-packages\\tensorflow_core\\python\\eager\\function.py\u001b[0m in \u001b[0;36m_call_impl\u001b[1;34m(self, args, kwargs, cancellation_manager)\u001b[0m\n\u001b[0;32m   1589\u001b[0m       raise TypeError(\"Keyword arguments {} unknown. Expected {}.\".format(\n\u001b[0;32m   1590\u001b[0m           list(kwargs.keys()), list(self._arg_keywords)))\n\u001b[1;32m-> 1591\u001b[1;33m     \u001b[1;32mreturn\u001b[0m \u001b[0mself\u001b[0m\u001b[1;33m.\u001b[0m\u001b[0m_call_flat\u001b[0m\u001b[1;33m(\u001b[0m\u001b[0margs\u001b[0m\u001b[1;33m,\u001b[0m \u001b[0mself\u001b[0m\u001b[1;33m.\u001b[0m\u001b[0mcaptured_inputs\u001b[0m\u001b[1;33m,\u001b[0m \u001b[0mcancellation_manager\u001b[0m\u001b[1;33m)\u001b[0m\u001b[1;33m\u001b[0m\u001b[1;33m\u001b[0m\u001b[0m\n\u001b[0m\u001b[0;32m   1592\u001b[0m \u001b[1;33m\u001b[0m\u001b[0m\n\u001b[0;32m   1593\u001b[0m   \u001b[1;32mdef\u001b[0m \u001b[0m_filtered_call\u001b[0m\u001b[1;33m(\u001b[0m\u001b[0mself\u001b[0m\u001b[1;33m,\u001b[0m \u001b[0margs\u001b[0m\u001b[1;33m,\u001b[0m \u001b[0mkwargs\u001b[0m\u001b[1;33m)\u001b[0m\u001b[1;33m:\u001b[0m\u001b[1;33m\u001b[0m\u001b[1;33m\u001b[0m\u001b[0m\n",
      "\u001b[1;32mC:\\Users\\Public\\anaconda\\lib\\site-packages\\tensorflow_core\\python\\eager\\function.py\u001b[0m in \u001b[0;36m_call_flat\u001b[1;34m(self, args, captured_inputs, cancellation_manager)\u001b[0m\n\u001b[0;32m   1690\u001b[0m       \u001b[1;31m# No tape is watching; skip to running the function.\u001b[0m\u001b[1;33m\u001b[0m\u001b[1;33m\u001b[0m\u001b[1;33m\u001b[0m\u001b[0m\n\u001b[0;32m   1691\u001b[0m       return self._build_call_outputs(self._inference_function.call(\n\u001b[1;32m-> 1692\u001b[1;33m           ctx, args, cancellation_manager=cancellation_manager))\n\u001b[0m\u001b[0;32m   1693\u001b[0m     forward_backward = self._select_forward_and_backward_functions(\n\u001b[0;32m   1694\u001b[0m         \u001b[0margs\u001b[0m\u001b[1;33m,\u001b[0m\u001b[1;33m\u001b[0m\u001b[1;33m\u001b[0m\u001b[0m\n",
      "\u001b[1;32mC:\\Users\\Public\\anaconda\\lib\\site-packages\\tensorflow_core\\python\\eager\\function.py\u001b[0m in \u001b[0;36mcall\u001b[1;34m(self, ctx, args, cancellation_manager)\u001b[0m\n\u001b[0;32m    543\u001b[0m               \u001b[0minputs\u001b[0m\u001b[1;33m=\u001b[0m\u001b[0margs\u001b[0m\u001b[1;33m,\u001b[0m\u001b[1;33m\u001b[0m\u001b[1;33m\u001b[0m\u001b[0m\n\u001b[0;32m    544\u001b[0m               \u001b[0mattrs\u001b[0m\u001b[1;33m=\u001b[0m\u001b[1;33m(\u001b[0m\u001b[1;34m\"executor_type\"\u001b[0m\u001b[1;33m,\u001b[0m \u001b[0mexecutor_type\u001b[0m\u001b[1;33m,\u001b[0m \u001b[1;34m\"config_proto\"\u001b[0m\u001b[1;33m,\u001b[0m \u001b[0mconfig\u001b[0m\u001b[1;33m)\u001b[0m\u001b[1;33m,\u001b[0m\u001b[1;33m\u001b[0m\u001b[1;33m\u001b[0m\u001b[0m\n\u001b[1;32m--> 545\u001b[1;33m               ctx=ctx)\n\u001b[0m\u001b[0;32m    546\u001b[0m         \u001b[1;32melse\u001b[0m\u001b[1;33m:\u001b[0m\u001b[1;33m\u001b[0m\u001b[1;33m\u001b[0m\u001b[0m\n\u001b[0;32m    547\u001b[0m           outputs = execute.execute_with_cancellation(\n",
      "\u001b[1;32mC:\\Users\\Public\\anaconda\\lib\\site-packages\\tensorflow_core\\python\\eager\\execute.py\u001b[0m in \u001b[0;36mquick_execute\u001b[1;34m(op_name, num_outputs, inputs, attrs, ctx, name)\u001b[0m\n\u001b[0;32m     59\u001b[0m     tensors = pywrap_tensorflow.TFE_Py_Execute(ctx._handle, device_name,\n\u001b[0;32m     60\u001b[0m                                                \u001b[0mop_name\u001b[0m\u001b[1;33m,\u001b[0m \u001b[0minputs\u001b[0m\u001b[1;33m,\u001b[0m \u001b[0mattrs\u001b[0m\u001b[1;33m,\u001b[0m\u001b[1;33m\u001b[0m\u001b[1;33m\u001b[0m\u001b[0m\n\u001b[1;32m---> 61\u001b[1;33m                                                num_outputs)\n\u001b[0m\u001b[0;32m     62\u001b[0m   \u001b[1;32mexcept\u001b[0m \u001b[0mcore\u001b[0m\u001b[1;33m.\u001b[0m\u001b[0m_NotOkStatusException\u001b[0m \u001b[1;32mas\u001b[0m \u001b[0me\u001b[0m\u001b[1;33m:\u001b[0m\u001b[1;33m\u001b[0m\u001b[1;33m\u001b[0m\u001b[0m\n\u001b[0;32m     63\u001b[0m     \u001b[1;32mif\u001b[0m \u001b[0mname\u001b[0m \u001b[1;32mis\u001b[0m \u001b[1;32mnot\u001b[0m \u001b[1;32mNone\u001b[0m\u001b[1;33m:\u001b[0m\u001b[1;33m\u001b[0m\u001b[1;33m\u001b[0m\u001b[0m\n",
      "\u001b[1;31mKeyboardInterrupt\u001b[0m: "
     ]
    }
   ],
   "source": [
    "history = cnn_model.fit(X_train, Y_train, batch_size =batch_size, nb_epoch = 70, verbose = 1,callbacks=[callback])\n",
    "#,validation_split=0.1"
   ]
  },
  {
   "cell_type": "code",
   "execution_count": 13,
   "metadata": {},
   "outputs": [],
   "source": [
    "cnn_model.save('t8.h5')"
   ]
  },
  {
   "cell_type": "code",
   "execution_count": null,
   "metadata": {},
   "outputs": [],
   "source": [
    "cnn_model = load_model('t8.h5')"
   ]
  },
  {
   "cell_type": "code",
   "execution_count": 27,
   "metadata": {},
   "outputs": [],
   "source": [
    "filename = 'test.jpg'\n",
    "img=cv2.imread(filename)\n",
    "pixels = pyplot.imread(filename)\n",
    "detector = MTCNN()\n",
    "predict=label\n",
    "result = detector.detect_faces(pixels)\n",
    "if result != []: \n",
    "    for person in result:\n",
    "        bounding_box = person['box']\n",
    "        f = cv2.resize(img[bounding_box[1]:bounding_box[1] + bounding_box[3],bounding_box[0]:bounding_box[0]+bounding_box[2]],(img_width,img_width))\n",
    "        k=f\n",
    "        f = np.reshape(f,[1,img_width,img_width,3])\n",
    "        f = f / 255\n",
    "        classes = cnn_model.predict_classes(f)[0]\n",
    "        name=predict[classes]\n",
    "        prob=cnn_model.predict_proba(f)[0][classes]\n",
    "        color=(0,255,0)#green\n",
    "        if prob<0.5:\n",
    "            name='unkonown'\n",
    "            color=(0,0,255)#red\n",
    "        cv2.rectangle(img,\n",
    "                      (bounding_box[0], bounding_box[1]+5),\n",
    "                      (bounding_box[0]+bounding_box[2], bounding_box[1] + bounding_box[3]),\n",
    "                      color,2) \n",
    "        cv2.putText(img,name,(bounding_box[0]-6, bounding_box[1]-11), 1, 1,color,2,cv2.LINE_AA)\n",
    "        cv2.putText(img,\" \"+str(Decimal(str(prob)).quantize(Decimal((0, (1,), -2)), rounding=ROUND_DOWN)),(bounding_box[0]-9, bounding_box[1]+2), 1, 1,color,2,cv2.LINE_AA)\n",
    "       \n",
    "    cv2.imshow(\"Image\", cv2.resize(img,(940,600)))\n",
    "cv2.waitKey(0)\n",
    "cv2.destroyAllWindows()"
   ]
  },
  {
   "cell_type": "code",
   "execution_count": 9,
   "metadata": {},
   "outputs": [],
   "source": [
    "predict=label\n",
    "cap = cv2.VideoCapture(0)\n",
    "numimg = 207 \n",
    "while cap.isOpened():\n",
    "    ret, img = cap.read()   \n",
    "    detector = MTCNN()\n",
    "    result = detector.detect_faces(img)\n",
    "    if result != []: \n",
    "        for person in result:\n",
    "            bounding_box = person['box']\n",
    "            try:\n",
    "                f = cv2.resize(img[bounding_box[1]:bounding_box[1] + bounding_box[3],bounding_box[0]:bounding_box[0]+bounding_box[2]],(128,128))\n",
    "                f = np.reshape(f,[1,128,128,3])\n",
    "                f = f / 255\n",
    "                classes = cnn_model.predict_classes(f)[0]\n",
    "                name=predict[classes]\n",
    "                prob=cnn_model.predict_proba(f)[0][classes]\n",
    "                color=(0,255,0)#green\n",
    "                if prob<0.1:\n",
    "                    name='unkonown'\n",
    "                    color=(0,0,255)#red\n",
    "                cv2.rectangle(img,\n",
    "                              (bounding_box[0], bounding_box[1]),\n",
    "                              (bounding_box[0]+bounding_box[2], bounding_box[1] + bounding_box[3]),\n",
    "                              color,2) \n",
    "                cv2.putText(img,name+\" \"+str(Decimal(str(prob)).quantize(Decimal((0, (1,), -2)), rounding=ROUND_DOWN)),(bounding_box[0], bounding_box[1]-6), 1, 1,color,2,cv2.LINE_AA)\n",
    "            except:\n",
    "                pass\n",
    "    cv2.imshow(\"Image\", img)\n",
    "    if cv2.waitKey(1) & 0xFF == ord('q'):\n",
    "        break\n",
    "cv2.destroyAllWindows()"
   ]
  },
  {
   "cell_type": "code",
   "execution_count": null,
   "metadata": {},
   "outputs": [],
   "source": []
  },
  {
   "cell_type": "code",
   "execution_count": null,
   "metadata": {},
   "outputs": [],
   "source": []
  },
  {
   "cell_type": "code",
   "execution_count": null,
   "metadata": {},
   "outputs": [],
   "source": []
  }
 ],
 "metadata": {
  "kernelspec": {
   "display_name": "Python 3",
   "language": "python",
   "name": "python3"
  },
  "language_info": {
   "codemirror_mode": {
    "name": "ipython",
    "version": 3
   },
   "file_extension": ".py",
   "mimetype": "text/x-python",
   "name": "python",
   "nbconvert_exporter": "python",
   "pygments_lexer": "ipython3",
   "version": "3.7.4"
  }
 },
 "nbformat": 4,
 "nbformat_minor": 4
}
